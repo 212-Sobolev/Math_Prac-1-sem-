{
  "nbformat": 4,
  "nbformat_minor": 0,
  "metadata": {
    "colab": {
      "provenance": []
    },
    "kernelspec": {
      "name": "python3",
      "display_name": "Python 3"
    },
    "language_info": {
      "name": "python"
    }
  },
  "cells": [
    {
      "cell_type": "code",
      "execution_count": 41,
      "metadata": {
        "id": "9PAVn3VS3QVK"
      },
      "outputs": [],
      "source": [
        "class Test:\n",
        "    @staticmethod\n",
        "    def assert_equals(a, b, *args, **kwargs):\n",
        "        assert a == b\n",
        "        print('Passed')"
      ]
    },
    {
      "cell_type": "markdown",
      "source": [
        "Provlem (https://edabit.com/challenge/bL7hSc6Zh4zZJzGmw) 1 point"
      ],
      "metadata": {
        "id": "TIiUe3SL5rU9"
      }
    },
    {
      "cell_type": "code",
      "source": [
        "def sum_of_cubes(numbers):\n",
        "    return sum(x ** 3 for x in numbers)"
      ],
      "metadata": {
        "id": "cUWPbF8D5Wt9"
      },
      "execution_count": null,
      "outputs": []
    },
    {
      "cell_type": "code",
      "source": [
        "Test.assert_equals(sum_of_cubes([1, 5, 9]), 855)\n",
        "Test.assert_equals(sum_of_cubes([3, 4, 5]), 216)\n",
        "Test.assert_equals(sum_of_cubes([1, 1, 1]), 3)\n",
        "Test.assert_equals(sum_of_cubes([2]), 8)\n",
        "Test.assert_equals(sum_of_cubes([5, 1, 2]), 134)\n",
        "Test.assert_equals(sum_of_cubes([32]), 32768)\n",
        "Test.assert_equals(sum_of_cubes([5, 9, 4, 4, 9]), 1711)\n",
        "Test.assert_equals(sum_of_cubes([0, 1, 2]), 9)\n",
        "Test.assert_equals(sum_of_cubes([]), 0)"
      ],
      "metadata": {
        "colab": {
          "base_uri": "https://localhost:8080/"
        },
        "id": "01X89cUM5xD0",
        "outputId": "d4bd5be6-f62b-47be-9557-78b77fe285df"
      },
      "execution_count": 15,
      "outputs": [
        {
          "output_type": "stream",
          "name": "stdout",
          "text": [
            "Passed\n",
            "Passed\n",
            "Passed\n",
            "Passed\n",
            "Passed\n",
            "Passed\n",
            "Passed\n",
            "Passed\n",
            "Passed\n"
          ]
        }
      ]
    },
    {
      "cell_type": "markdown",
      "source": [
        "Problem (https://edabit.com/challenge/FdsQBPLYBwrpYEbRn) 2 point (SUM = 3)"
      ],
      "metadata": {
        "id": "zFmsA1Dp52bu"
      }
    },
    {
      "cell_type": "code",
      "source": [
        "def quadraticEquation(a, b, c):\n",
        "    discriminant = b**2 - 4*a*c\n",
        "\n",
        "    if discriminant < 0:\n",
        "        return \"No real roots\"\n",
        "    root = (-b + (discriminant)**(1/2)) / (2 * a)\n",
        "    return root"
      ],
      "metadata": {
        "id": "GjhubeWc6LAn"
      },
      "execution_count": 23,
      "outputs": []
    },
    {
      "cell_type": "code",
      "source": [
        "Test.assert_equals(quadraticEquation(1, 2, -3), 1)\n",
        "Test.assert_equals(quadraticEquation(2, -7, 3), 3)\n",
        "Test.assert_equals(quadraticEquation(1, -12, -28), 14)"
      ],
      "metadata": {
        "colab": {
          "base_uri": "https://localhost:8080/"
        },
        "id": "uLWrsdWG76xe",
        "outputId": "2292587a-5ed5-44ca-8de6-526e25c16a1f"
      },
      "execution_count": 24,
      "outputs": [
        {
          "output_type": "stream",
          "name": "stdout",
          "text": [
            "Passed\n",
            "Passed\n",
            "Passed\n"
          ]
        }
      ]
    },
    {
      "cell_type": "markdown",
      "source": [
        "problem (https://edabit.com/challenge/aHHyBptSxSfyzbWaX) 3 point (SUM = 6)\n"
      ],
      "metadata": {
        "id": "HWAUyW778vDI"
      }
    },
    {
      "cell_type": "code",
      "source": [
        "def primeNumbers(n):\n",
        "    if n < 2:\n",
        "        return 0\n",
        "\n",
        "    is_prime = [True] * (n + 1)\n",
        "    is_prime[0] = is_prime[1] = False\n",
        "\n",
        "    for i in range(2, int(n**0.5) + 1):\n",
        "        if is_prime[i]:\n",
        "            for j in range(i * i, n + 1, i):\n",
        "                is_prime[j] = False\n",
        "    return sum(is_prime)"
      ],
      "metadata": {
        "id": "UDC94iC48ifE"
      },
      "execution_count": 31,
      "outputs": []
    },
    {
      "cell_type": "code",
      "source": [
        "Test.assert_equals(primeNumbers(20), 8)\n",
        "Test.assert_equals(primeNumbers(30), 10)\n",
        "Test.assert_equals(primeNumbers(100), 25)\n",
        "Test.assert_equals(primeNumbers(200), 46)\n",
        "Test.assert_equals(primeNumbers(1000), 168)\n",
        "Test.assert_equals(primeNumbers(-5), 0)\n",
        "Test.assert_equals(primeNumbers(66), 18)\n",
        "Test.assert_equals(primeNumbers(133), 32)\n",
        "Test.assert_equals(primeNumbers(99), 25)"
      ],
      "metadata": {
        "colab": {
          "base_uri": "https://localhost:8080/"
        },
        "id": "jrS3GTKA9uND",
        "outputId": "24e8c755-e9bc-4873-f105-94e7340bddab"
      },
      "execution_count": 33,
      "outputs": [
        {
          "output_type": "stream",
          "name": "stdout",
          "text": [
            "Passed\n",
            "Passed\n",
            "Passed\n",
            "Passed\n",
            "Passed\n",
            "Passed\n",
            "Passed\n",
            "Passed\n",
            "Passed\n"
          ]
        }
      ]
    },
    {
      "cell_type": "markdown",
      "source": [
        "problem (https://edabit.com/challenge/5ZDz5nDDPdfg5BH8K) 4 point (SUM = 10)"
      ],
      "metadata": {
        "id": "eCuceoCY907Z"
      }
    },
    {
      "cell_type": "code",
      "source": [
        "def only_5_and_3(n):\n",
        "    from collections import deque\n",
        "\n",
        "    queue = deque([3, 5])\n",
        "    visited = set(queue)\n",
        "\n",
        "    while queue:\n",
        "        current = queue.popleft()\n",
        "\n",
        "        if current == n:\n",
        "            return True\n",
        "\n",
        "        next_add = current + 5\n",
        "        next_multiply = current * 3\n",
        "\n",
        "        if next_add not in visited and next_add <= n:\n",
        "            visited.add(next_add)\n",
        "            queue.append(next_add)\n",
        "\n",
        "        if next_multiply not in visited and next_multiply <= n:\n",
        "            visited.add(next_multiply)\n",
        "            queue.append(next_multiply)\n",
        "\n",
        "    return False"
      ],
      "metadata": {
        "id": "UDsaakR690ez"
      },
      "execution_count": 34,
      "outputs": []
    },
    {
      "cell_type": "code",
      "source": [
        "Test.assert_equals(only_5_and_3(14), True, \"See example #1\")\n",
        "Test.assert_equals(only_5_and_3(25), True, \"See example #2\")\n",
        "Test.assert_equals(only_5_and_3(7), False, \"See example #3\")\n",
        "Test.assert_equals(only_5_and_3(2), False)\n",
        "Test.assert_equals(only_5_and_3(43), True)\n",
        "Test.assert_equals(only_5_and_3(33), True)\n",
        "Test.assert_equals(only_5_and_3(51), False)\n",
        "Test.assert_equals(only_5_and_3(91), True)\n",
        "Test.assert_equals(only_5_and_3(378), True)\n",
        "Test.assert_equals(only_5_and_3(627), True)"
      ],
      "metadata": {
        "colab": {
          "base_uri": "https://localhost:8080/"
        },
        "id": "4COpIlAC-TC0",
        "outputId": "38313693-1786-459d-daa7-eb9a3922350f"
      },
      "execution_count": 35,
      "outputs": [
        {
          "output_type": "stream",
          "name": "stdout",
          "text": [
            "Passed\n",
            "Passed\n",
            "Passed\n",
            "Passed\n",
            "Passed\n",
            "Passed\n",
            "Passed\n",
            "Passed\n",
            "Passed\n",
            "Passed\n"
          ]
        }
      ]
    },
    {
      "cell_type": "markdown",
      "source": [
        "problem (https://edabit.com/challenge/aRXEq8DPQNuGENc68) 5 point (SUM = 15)"
      ],
      "metadata": {
        "id": "lPaxFkan-dT_"
      }
    },
    {
      "cell_type": "code",
      "source": [
        "import math\n",
        "\n",
        "def salt(t):\n",
        "    \"\"\"Returns the amount of salt (kg) in the tank after t minutes, rounded to 3 decimal places.\"\"\"\n",
        "    # Calculate the amount of salt using the derived formula\n",
        "    S_t = 9 * math.exp(-0.1 * t) + 1\n",
        "    return round(S_t, 3)\n"
      ],
      "metadata": {
        "id": "hX2Jn4ys-cpI"
      },
      "execution_count": 54,
      "outputs": []
    },
    {
      "cell_type": "code",
      "source": [
        "Test.assert_equals(salt(0), 10.0)\n",
        "Test.assert_equals(salt(5), 6.459)\n",
        "Test.assert_equals(salt(10), 4.311)\n",
        "Test.assert_equals(salt(15), 3.008)\n",
        "Test.assert_equals(salt(30), 1.448)\n",
        "Test.assert_equals(salt(60), 1.022)\n",
        "Test.assert_equals(salt(120), 1.0)"
      ],
      "metadata": {
        "colab": {
          "base_uri": "https://localhost:8080/"
        },
        "id": "mwD_vBJwA6la",
        "outputId": "ae1fbc83-91dc-4d6c-ce91-c485bd1a0b46"
      },
      "execution_count": 55,
      "outputs": [
        {
          "output_type": "stream",
          "name": "stdout",
          "text": [
            "Passed\n",
            "Passed\n",
            "Passed\n",
            "Passed\n",
            "Passed\n",
            "Passed\n",
            "Passed\n"
          ]
        }
      ]
    }
  ]
}